{
  "nbformat": 4,
  "nbformat_minor": 0,
  "metadata": {
    "colab": {
      "provenance": [],
      "authorship_tag": "ABX9TyP82PD57ttNJfw5DuK557rr",
      "include_colab_link": true
    },
    "kernelspec": {
      "name": "python3",
      "display_name": "Python 3"
    },
    "language_info": {
      "name": "python"
    }
  },
  "cells": [
    {
      "cell_type": "markdown",
      "metadata": {
        "id": "view-in-github",
        "colab_type": "text"
      },
      "source": [
        "<a href=\"https://colab.research.google.com/github/rahmawtnisa/Project-SQL-DQLab/blob/main/SQL_Mission.ipynb\" target=\"_parent\"><img src=\"https://colab.research.google.com/assets/colab-badge.svg\" alt=\"Open In Colab\"/></a>"
      ]
    },
    {
      "cell_type": "markdown",
      "source": [
        "#Misi 1-5 Batch 16: Fundamental SQL Menggunakan Google Big Query"
      ],
      "metadata": {
        "id": "5ZTbLbkeBAil"
      }
    },
    {
      "cell_type": "markdown",
      "source": [
        "##Konsep dasar SQL, konsep DDL dan DML, serta Query SELECT"
      ],
      "metadata": {
        "id": "lmVPPVXoA28c"
      }
    },
    {
      "cell_type": "markdown",
      "source": [
        "Misi:\n",
        "Kali ini aku ingin tahu gambaran data penjualan DQMall berdasarkan database yang kemarin sudah aku rapikan. Aksara memintaku untuk membuat query yang menampilkan 10 transaksi yang ada pada tabel ‘transaction’, tanpa menggunakan filter apapun. Aku akan mengaplikasikan penggunaan syntax SELECT dan LIMIT pada SQL untuk mengerjakan misi tersebut.\n",
        "\n",
        "Soal:\n",
        "\n",
        "Buatlah Query untuk melihat 10 transaksi yang ada pada tabel 'transaction' , tanpa menggunakan filter apapun."
      ],
      "metadata": {
        "id": "mLQjLcDnA1pi"
      }
    },
    {
      "cell_type": "code",
      "execution_count": null,
      "metadata": {
        "id": "yCezyI-T_8gh"
      },
      "outputs": [],
      "source": [
        "select *\n",
        "from transaction\n",
        "limit 10"
      ]
    },
    {
      "cell_type": "markdown",
      "source": [
        "##Query WHERE, SORT, AGREGASI, dan HAVING"
      ],
      "metadata": {
        "id": "VJGPZcQmBXTG"
      }
    },
    {
      "cell_type": "markdown",
      "source": [
        "Misi:\n",
        "\n",
        "Untuk memperdalam pengetahuanku akan ilmu baru yang kuperoleh, Manager DQMall memintaku untuk menampilkan produk ID yang memiliki penjualan terbanyak. Format laporan yang diminta adalah product_id dan total_pembelian_per_produk. Aku akan menggunakan tabel ‘transaction’ untuk mengerjakan hal tersebut. Untuk nilai dari total_pembelian_per_produk dapat diperoleh dengan menjumlahkan semua produk yang terjual (quantity)\n",
        "\n",
        "Instruksi Pengerjaan:\n",
        "Menampilkan product_id dan total pembelian per produk:\n",
        "\n",
        "Kolom yang ditampilkan adalah product_id dan total pembelian per produk dengan nama alias total_pembelian_per_produk.\n",
        "total_pembelian_per_produk diperoleh dengan menjumlahkan kolom quantity dari tabel.\n",
        "Penggunaan GROUP BY:\n",
        "\n",
        "Data dikelompokkan berdasarkan product_id.\n",
        "Urutan Data:\n",
        "\n",
        "Hasil diurutkan berdasarkan kolom total_pembelian_per_produk secara menurun (dari total pembelian terbesar ke terkecil).\n",
        "Penggunaan nama kolom untuk GROUP BY dan ORDER BY:\n",
        "\n",
        "Nama kolom harus digunakan, bukan angka atau urutan kolom."
      ],
      "metadata": {
        "id": "9jtAF737BE4L"
      }
    },
    {
      "cell_type": "code",
      "source": [
        "select product_id,SUM(quantity) as total_pembelian_per_produk\n",
        "from transaction\n",
        "group by product_id\n",
        "order by total_pembelian_per_produk desc"
      ],
      "metadata": {
        "id": "jlNT-IIXBdaU"
      },
      "execution_count": null,
      "outputs": []
    },
    {
      "cell_type": "markdown",
      "source": [
        "##Query DATE, format angka, dan Subquery"
      ],
      "metadata": {
        "id": "jR6ny_LLBoIJ"
      }
    },
    {
      "cell_type": "markdown",
      "source": [
        "Misi:\n",
        "\n",
        "Karena guru yang terbaik dalam kasus seperti ini adalah berlatih, Aksara memberikan tugas padaku untuk menampilkan produk dengan profit tertinggi. Format dari laporan yang ia minta adalah nama produk (product_name), category (category), dan sub-category (sub_category). Untuk melakukan tugas kali ini, aku akan memanfaatkan dua tabel, yaitu tabel transaction dan ref_product.\n",
        "\n",
        "Instruksi Pengerjaan:\n",
        "\n",
        "Buatlah query untuk mengetahui apa \"produk\" yang memiliki \"profit\" tertinggi. Kita akan menggunakan tabel transaction dan ref_product untuk melakukan hal tersebut. Tabel transaction berisi data transaksional yang memuat data seperti siapa customer yang melakukan transaksi, produk apa yang dibeli, berapa jumlah produk yang dibeli, dan total transaksi yang dilakukan. Sementara itu, tabel ref_product berisi detail dari setiap produk seperti kategori dan nama produk Tampilkan output dalam urutan sebagai berikut: Product_Name, Category, dan Sub_Category."
      ],
      "metadata": {
        "id": "xvwuWcm8Bf3s"
      }
    },
    {
      "cell_type": "code",
      "source": [
        "select product_name,category,sub_category\n",
        "from ref_product\n",
        "where product_id = (\n",
        "\tselect product_id from transaction\n",
        "    group by product_id\n",
        "    order by SUM(profit) desc\n",
        "    limit 1\n",
        ")"
      ],
      "metadata": {
        "id": "0bSNe6piBsS9"
      },
      "execution_count": null,
      "outputs": []
    },
    {
      "cell_type": "markdown",
      "source": [
        "##Query JOIN"
      ],
      "metadata": {
        "id": "BfuN14pPB5i8"
      }
    },
    {
      "cell_type": "markdown",
      "source": [
        "Misi:\n",
        "\n",
        "Saat aku sedang mempelajari  penggunaan JOIN, tiba-tiba Aksara menghampiriku. “Dibanding hanya membaca, praktik langsung saja, yuk? Bisakah kamu membantuku untuk membuat laporan pembelian dari tiap customer yang pernah berbelanja di DQMall?” Tanpa berpikir panjang, tentu saja aku langsung mengangguk. Aku melihat format dari laporan yang ditunjukkan oleh Aksara, aku diminta untuk menampilkan customer_id, customer_name, dan total_pembelian dari setiap customer. Aku merasa familiar dengan kolom-kolom tersebut karena sebelumnya aku sudah pernah menarik data dengan menggunakan tabel data tersebut. Aku langsung tahu bahwa aku harus menggunakan tabel ref_customer dan transaction untuk mengerjakan task ini. Aksara memberikan informasi bahwa kolom total_pembelian dapat diperoleh dengan menjumlahkan sales dan kita akan melakukan pembulatan pada kolom tersebut.\n",
        "\n",
        "Instruksi Pengerjaan:\n",
        "\n",
        "Buatlah query untuk menampilkan customer_id, customer_name, dan total_pembelian tiap customer. Kita akan menggunakan tabel ref_customer dan transaction untuk mengerjakan hal tersebut. Kolom total_pembelian diperoleh dengan menjumlahkan sales dan kita akan melakukan pembulatan pada kolom tersebut. Gunakan alias a untuk ref_customer dan alias b untuk transaction"
      ],
      "metadata": {
        "id": "uPe7PMDfBumj"
      }
    },
    {
      "cell_type": "code",
      "source": [
        "SELECT a.customer_id,a.customer_name,ROUND(SUM(b.sales)) AS total_pembelian\n",
        "FROM ref_customer a\n",
        "JOIN transaction b\n",
        "ON a.customer_id = b.customer_id\n",
        "GROUP BY a.customer_id, a.customer_name"
      ],
      "metadata": {
        "id": "8XxBdI4PB8_B"
      },
      "execution_count": null,
      "outputs": []
    }
  ]
}